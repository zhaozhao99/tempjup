{
 "cells": [
  {
   "cell_type": "markdown",
   "metadata": {},
   "source": [
    "# 3 Uncertain environmental and economic damages"
   ]
  },
  {
   "cell_type": "markdown",
   "metadata": {},
   "source": [
    "## Damage functions\n",
    "\n",
    "For purposes of illustration, we introduce  explicitly stochastic models of damages.  The specification includes an unknown threshold whereby the curvature becomes apparent.  In some of our computations, this threshold occurs somewhere between 1.5 and 2 degrees Celsius, but we also explore what happens when this interval is shifted to the right, 1.75 and 2.25 degress Celsius in our illustration.  Under a baseline specification, damage function curvature is realized in accordance with a Poisson event and an intensity that depends on the temperature anomaly.  The event is more likely to be revealed in the near future when the temperature anomaly is larger.  While we adopt a probabilistic formulation as a baseline, we will entertain ambiguity over damage function curvature and potential misspecification of the Poisson intensity.  We intend our specification of the damage function to reflect that the value of future empiricism in the near term will be limited as the climate-economic system is pushed into uncharted territory.  On the other hand, we allow for the damage function steepness to be revealed in the future as the climate system moves potentially closer to an environmental tipping point.  \n",
    "Our construction of potential damage functions is similar to {cite:t}`BarnettBrockHansen:2020` with specifications motivated in part by prior contributions.\n",
    "\n",
    "We posit a damage process, $N_t = \\{ N_t : t\\ge 0\\}$ to capture negative externalities on society imposed by carbon emissions.  The reciprocal of damages, ${\\frac 1 {N_t}}$,  diminishes the  productive capacity of the economy because of the impact of climate change.  We follow much of climate economics literature by presuming that the process $N$  reflects, in part,  the outcome of a damage function evaluated at the  temperature anomaly process. Importantly, we use a family of damage functions in place of a single function. Our construction of the alternative damage functions is similar to {cite:t}`BarnettBrockHansen:2020` with specifications motivated in part by prior contributions.  Importantly, we modify their damage specifications in three ways:\n",
    "\n",
    "- we entertain more damage functions, including ones  that are more extreme;\n",
    "\n",
    "- we allow for damage function steepness to emerge at an *ex ante* unknown temperature anomaly threshold;\n",
    "\n",
    "- we presume that *ex post* this uncertainty is resolved;\n",
    "\n",
    "\n",
    "We consider a  specification under which there is a temperature anomaly threshold after which the damage function could be much more curved.  This curvature in the \"tail\" of the damage function is only revealed to decision-makers when a Poisson event is triggered.  As our model is highly stylized, the damages captured by the Poisson event are meant to capture more than just the economic consequences of a narrowly defined temperature movements.  Temperature changes are allowed to trigger other forms of climate change that in turn can spill over into the macroeconomy. \n",
    "\n",
    "\n",
    "In our computational implementation, we use a piecewise log-quadratic function for mapping how temperature changes induced by emissions alter economic opportunities.    The  Poisson intensity governing the jump probability is an increasing function of the temperature anomaly.  We  specify it so that the Poisson event is triggered prior to the anomaly hitting an upper threshold ${\\overline y}$. \n",
    "Construct a process \n",
    "\n",
    "$$\n",
    "{\\overline Y}_t = \\left\\{ \\begin{matrix} Y_t & t < \\tau \\cr Y_t - Y_\\tau + {\\overline y} & t \\ge \\tau \\end{matrix} \\right.\n",
    "$$\n",
    "\n",
    "where $\\tau$ is the date of a Poisson event.  Notice that ${\\overline Y}_\\tau = {\\overline y}$.  The damages are given by\n",
    "\n",
    "$$\n",
    "\\log N_t = \\Gamma \\left({\\overline Y}_t  \\right) + \\iota_n \\cdot Z_t \n",
    "$$\n",
    "\n",
    "where:\n",
    "\n",
    "$$\n",
    "\\Gamma(y) = \\gamma_1y + {\\frac {\\gamma_2} 2} y^2  + {\\frac {\\gamma_3^m} 2} {\\bf 1}_{y \\ge {\\overline y}}\n",
    "( y- {\\overline y} )^2 \n",
    "$$\n",
    "\n",
    "and the only component of $dW$ pertinent for the evolution of $\\iota_n \\cdot Z_t$ is $dW^n_t$.  \n",
    "Decision-makers do not know when the Poisson event will be triggered nor do they know *ex ante* what the value of $\\gamma_3^m$ is prior to the realization of that event. At the time of the Poisson event, one of $M$ values of $\\gamma_3^m$ is realized.  In our application  the coefficients $\\gamma_3^m$ are specified so that the proportional damages are equally spaced after the threshold ${\\overline y}$.  \n",
    "\n",
    "In our illustration, we consider 20 damage specifications, $i.e.\\ M = 20$. The $\\gamma_3$'s are 20 equally spaced values between 0 and 1/3. \n",
    "\n",
    "\n",
    "The parameter values are as follows:\n",
    "\n",
    " |Parameter | Value     |\n",
    " |:- | :--------- |\n",
    "|$\\underline{y}$ | 1.5|\n",
    "| $\\bar y$   | 2|\n",
    "|$\\gamma_1$  | 0.00017675|\n",
    "|$\\gamma_2$  | 0.0044|\n",
    "|$\\gamma_3^m$|  $\\frac{0.33 (m - 1)}{19}, m=1, 2, \\dots, 20$|\n",
    "\n",
    "For motivation of choosing 1.5 and 2 degrees as thresholds, see *Remark 4.1*."
   ]
  },
  {
   "cell_type": "code",
   "execution_count": 18,
   "metadata": {},
   "outputs": [
    {
     "data": {
      "text/html": [
       "\n",
       "        <iframe\n",
       "            width=\"1035\"\n",
       "            height=\"500\"\n",
       "            src=\"plot4.html\"\n",
       "            frameborder=\"0\"\n",
       "            allowfullscreen\n",
       "        ></iframe>\n",
       "        "
      ],
      "text/plain": [
       "<IPython.lib.display.IFrame at 0x7fcb673888e0>"
      ]
     },
     "execution_count": 18,
     "metadata": {},
     "output_type": "execute_result"
    }
   ],
   "source": [
    "from src.plots import plot4, plot3\n",
    "from IPython.display import IFrame\n",
    "plot4().write_html('plot4.html')\n",
    "IFrame(src ='plot4.html', width=1035, height=500)\n"
   ]
  },
  {
   "cell_type": "markdown",
   "metadata": {},
   "source": [
    "## Intensity function\n",
    "\n",
    "The intensity function, ${\\mathcal J}$,  determines the possibility of a jump over the next small increment in time.  For $Y_t = y$, $\\epsilon \\mathcal J (y)$ is the approximate jump probability over small time increment $\\epsilon$.  Equivalently,  ${\\mathcal J}$ is a local measure of probability per unit of time.  \n",
    "\n",
    "In our computations,  we use intensity function \n",
    "\n",
    "\n",
    "$$\n",
    "{\\mathcal J}(y) = \\left\\{ \\begin{matrix} {\\sf r}_1 \\left( \\exp \\left[ {\\frac {{\\sf r}_2}  2} (y -{\\underline y})^2\\right] - 1 \\right) & y \\ge {\\underline y} \\cr\n",
    "0 & 0 \\le y < {\\underline y} \\end{matrix} \\right.\n",
    "$$\n",
    "\n",
    "\n",
    "Where the values for $r_1$ and $r_2$ are as follows:\n",
    "\n",
    "| Parameter | Value |\n",
    "| :-- | :-- |\n",
    "|$r_1$ | 1.5 |\n",
    "|$r_2$ | 2.5 |"
   ]
  },
  {
   "cell_type": "code",
   "execution_count": 8,
   "metadata": {},
   "outputs": [
    {
     "data": {
      "text/html": [
       "\n",
       "        <iframe\n",
       "            width=\"1000\"\n",
       "            height=\"600\"\n",
       "            src=\"plot3.html\"\n",
       "            frameborder=\"0\"\n",
       "            allowfullscreen\n",
       "        ></iframe>\n",
       "        "
      ],
      "text/plain": [
       "<IPython.lib.display.IFrame at 0x7fcb69d1a5b0>"
      ]
     },
     "execution_count": 8,
     "metadata": {},
     "output_type": "execute_result"
    }
   ],
   "source": [
    "# Intensity function\n",
    "from IPython.display import IFrame\n",
    "plot3().write_html('plot3.html')\n",
    "IFrame(src ='plot3.html', width=1000, height=600)\n"
   ]
  }
 ],
 "metadata": {
  "interpreter": {
   "hash": "d0d76abfdbb0076f7950f4feef2921e737fada20a629e84883a54ca9388c8f4e"
  },
  "kernelspec": {
   "display_name": "Python 3",
   "language": "python",
   "name": "python3"
  },
  "language_info": {
   "codemirror_mode": {
    "name": "ipython",
    "version": 3
   },
   "file_extension": ".py",
   "mimetype": "text/x-python",
   "name": "python",
   "nbconvert_exporter": "python",
   "pygments_lexer": "ipython3",
   "version": "3.8.8"
  }
 },
 "nbformat": 4,
 "nbformat_minor": 5
}
