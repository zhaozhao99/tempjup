{
 "cells": [
  {
   "cell_type": "markdown",
   "metadata": {},
   "source": [
    "# 7 Conclusion\n",
    "\n",
    "In many dynamic settings, our understanding of the true underlying model relevant for economic decision-making is limited because existing evidence is weak along some important dimensions. As a result, the design and conduct of policy occurs in settings in which policy outcomes are uncertain. We offer the economics of climate change as an example, but there are many others. We turned to decision theory under uncertainty to serve as a  guide for how we conduct uncertainty quantification as it contributes to the design of policy. Furthermore, we showed how different forms of uncertainty impact our quantification, how information about environmental and economic damages revealed in the future influence current policies, and how different  sources of uncertainty contribute to the SCC in the presence of model and ambiguity and misspecification concerns.   \n",
    "\n",
    " \n",
    "Our analysis in this paper is made simpler here by posing the resource allocation problem as one faced by a single policy maker or social planner. To push closer to a realistic policy setting, multiple decision-makers come into play, including alternative policy makers as well as private sector consumers and investors. Since these different agents  confront uncertainty from  different perspectives, their uncertainty concerns are expressed in different ways.  Moreover,  in more realistic policy settings,  political constraints prevent first-best solutions. While we fully appreciate the need to extend our analysis of uncertainty to address these modeling challenges, we have little reason to doubt that the  uncertainty considerations should remain as first-order concerns and not be shunted to the background as they often are in policy discussions."
   ]
  },
  {
   "cell_type": "code",
   "execution_count": null,
   "metadata": {},
   "outputs": [],
   "source": []
  }
 ],
 "metadata": {
  "kernelspec": {
   "display_name": "Python 3",
   "language": "python",
   "name": "python3"
  },
  "language_info": {
   "codemirror_mode": {
    "name": "ipython",
    "version": 3
   },
   "file_extension": ".py",
   "mimetype": "text/x-python",
   "name": "python",
   "nbconvert_exporter": "python",
   "pygments_lexer": "ipython3",
   "version": "3.8.8"
  }
 },
 "nbformat": 4,
 "nbformat_minor": 4
}